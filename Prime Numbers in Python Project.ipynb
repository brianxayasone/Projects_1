{
 "cells": [
  {
   "cell_type": "markdown",
   "id": "76f1bab4",
   "metadata": {},
   "source": [
    "Create a Function to Check if a Number Is Prime\n",
    "\n",
    "In mathematics, extensive research focuses on unique numbers known as primes. A prime number is a natural number greater than 1 that possesses a special property: it can only be divided evenly by 1 and itself. In simpler terms, it cannot be represented as the product of two or more smaller numbers, excluding 1.\n",
    "\n",
    "So, for example, 5 is a prime number because it’s only divisible by 1 and 5. You cannot express it—in terms of natural numbers—as a product of 2 and any other value.\n",
    "\n",
    "On the other hand, 6 is not a prime number since it’s divisible by 2 and 3. It can be written as 2x3. And 12 is not a prime because it’s divisible by 2, 3, 4, and 6.\n",
    "\n",
    "The first five prime numbers include 2, 3, 5, 7, and 11—meaning that 4, 6, 8, 9 and 10 are not prime. As a special case, 1 is not considered a prime.\n",
    "\n",
    "Your first task is to create a Python function, is_prime(n), that determines whether a given number n is prime. This function should return either True or False.\n",
    "\n",
    "You can initially approach this problem by considering the special cases. So, at the top of the function, you can write an if statement that checks whether n is 0 or 1. If it is, the function should return False because these are not considered prime numbers.\n",
    "\n",
    "Next, iterate through each number between 2 and n - 1. Within this loop, assess each number's divisibility with n. If any of these numbers are found to be divisors of n, we can claim that n is not prime. Consequently, return False at this point. Since there can be only one return per function, the function will stop immediately once it encounters this return.\n",
    "\n",
    "Finally, if the function did not stop and went through the whole loop uninterrupted, n was not divisible by a number between 2 and n - 1. Therefore, n is a prime number; you can return a True value."
   ]
  },
  {
   "cell_type": "code",
   "execution_count": 10,
   "id": "be024050",
   "metadata": {},
   "outputs": [],
   "source": [
    "def is_prime(n):\n",
    "    if n == 1 or n == 0:\n",
    "        return print(\"False\")\n",
    "    if n == 2:\n",
    "        return print(\"True\")\n",
    "    for i in range(2, n):\n",
    "        if n % i == 0:\n",
    "            return print(\"False\")\n",
    "        return print(\"True\")"
   ]
  },
  {
   "cell_type": "code",
   "execution_count": 20,
   "id": "0cbd9991",
   "metadata": {},
   "outputs": [
    {
     "name": "stdout",
     "output_type": "stream",
     "text": [
      "False\n"
     ]
    }
   ],
   "source": [
    "is_prime(10)"
   ]
  },
  {
   "cell_type": "markdown",
   "id": "baffd01c",
   "metadata": {},
   "source": [
    "Count Prime Numbers in a Range\n",
    "\n",
    "After creating a function to check if a number is prime, consider the range of natural numbers from 100 to 151 inclusive. Find how many prime numbers are present in this range.\n",
    "\n",
    "Follow these steps to accomplish this task:\n",
    "\n",
    "    1. Initialize a variable count and set its initial value to 0;\n",
    "    2. Set up a loop that goes through every number in the given range;\n",
    "    3. For each number, apply the function is_prime() to check if it’s a prime;\n",
    "    4. If the number is prime, increase the value of count by 1;\n",
    "    5. After the loop, print out the value of count.\n",
    "    \n",
    "Consider carefully the numbers you should input in the range() function. Off-by-one errors can be quite common here."
   ]
  },
  {
   "cell_type": "code",
   "execution_count": null,
   "id": "bcf4eb5a",
   "metadata": {},
   "outputs": [],
   "source": [
    "# next iteration\n",
    "\n",
    "# check to see if number n is prime number\n",
    "\n",
    "def is_prime(n):\n",
    "    if n == 1 or n == 0:\n",
    "        return False\n",
    "    if n == 2:\n",
    "        return True\n",
    "    for i in range(2, n):\n",
    "        if n % i == 0:\n",
    "            return False\n",
    "        return True\n",
    "    \n",
    "# Count prime numbers in the range 100 to 151\n",
    "\n",
    "count = 0\n",
    "for n in range(100, 152):\n",
    "    if is_prime(n) == True:\n",
    "        count += 1 # increment the count if the number is prime\n",
    "\n",
    "print(count)"
   ]
  }
 ],
 "metadata": {
  "kernelspec": {
   "display_name": "Python 3 (ipykernel)",
   "language": "python",
   "name": "python3"
  },
  "language_info": {
   "codemirror_mode": {
    "name": "ipython",
    "version": 3
   },
   "file_extension": ".py",
   "mimetype": "text/x-python",
   "name": "python",
   "nbconvert_exporter": "python",
   "pygments_lexer": "ipython3",
   "version": "3.9.12"
  }
 },
 "nbformat": 4,
 "nbformat_minor": 5
}
